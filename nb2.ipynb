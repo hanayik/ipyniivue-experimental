{
 "cells": [
  {
   "cell_type": "code",
   "execution_count": 1,
   "metadata": {},
   "outputs": [
    {
     "name": "stdout",
     "output_type": "stream",
     "text": [
      "[PosixPath('/Users/jan-hendrik/projects/ipyniivue-experimental/images/mni152.nii.gz')]\n"
     ]
    },
    {
     "data": {
      "application/vnd.jupyter.widget-view+json": {
       "model_id": "a44c01aee898484dad2f2f31c2c044d1",
       "version_major": 2,
       "version_minor": 0
      },
      "text/plain": [
       "AnyNiivue()"
      ]
     },
     "execution_count": 1,
     "metadata": {},
     "output_type": "execute_result"
    }
   ],
   "source": [
    "from ipyniivue_experimental import AnyNiivue\n",
    "nv2 = AnyNiivue()\n",
    "\n",
    "import pathlib\n",
    "p1 = pathlib.Path.cwd() / \"images/mni152.nii.gz\"\n",
    "nv2.add_volume(p1)\n",
    "\n",
    "p2 = pathlib.Path.cwd() / \"images/hippo.nii.gz\"\n",
    "nv2.add_volume(p2)\n",
    "nv2"
   ]
  },
  {
   "cell_type": "code",
   "execution_count": null,
   "metadata": {},
   "outputs": [],
   "source": []
  }
 ],
 "metadata": {
  "kernelspec": {
   "display_name": ".venv",
   "language": "python",
   "name": "python3"
  },
  "language_info": {
   "codemirror_mode": {
    "name": "ipython",
    "version": 3
   },
   "file_extension": ".py",
   "mimetype": "text/x-python",
   "name": "python",
   "nbconvert_exporter": "python",
   "pygments_lexer": "ipython3",
   "version": "3.11.7"
  }
 },
 "nbformat": 4,
 "nbformat_minor": 2
}
