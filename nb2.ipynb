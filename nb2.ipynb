{
 "cells": [
  {
   "cell_type": "code",
   "execution_count": 2,
   "metadata": {},
   "outputs": [
    {
     "data": {
      "application/vnd.jupyter.widget-view+json": {
       "model_id": "273016476f0d46c5b869527eb6fc0250",
       "version_major": 2,
       "version_minor": 0
      },
      "text/plain": [
       "AnyNiivue(volume_file=PosixPath('/Users/jan-hendrik/projects/ipyniivue-experimental/images/hippo.nii.gz'))"
      ]
     },
     "execution_count": 2,
     "metadata": {},
     "output_type": "execute_result"
    }
   ],
   "source": [
    "from ipyniivue_experimental import AnyNiivue\n",
    "nv2 = AnyNiivue()\n",
    "\n",
    "import pathlib\n",
    "p1 = pathlib.Path.cwd() / \"images/mni152.nii.gz\"\n",
    "nv2.load_volume(p1)\n",
    "\n",
    "p2 = pathlib.Path.cwd() / \"images/hippo.nii.gz\"\n",
    "nv2.load_volume(p2)\n",
    "\n",
    "nv2"
   ]
  }
 ],
 "metadata": {
  "kernelspec": {
   "display_name": ".venv",
   "language": "python",
   "name": "python3"
  },
  "language_info": {
   "codemirror_mode": {
    "name": "ipython",
    "version": 3
   },
   "file_extension": ".py",
   "mimetype": "text/x-python",
   "name": "python",
   "nbconvert_exporter": "python",
   "pygments_lexer": "ipython3",
   "version": "3.11.7"
  }
 },
 "nbformat": 4,
 "nbformat_minor": 2
}
