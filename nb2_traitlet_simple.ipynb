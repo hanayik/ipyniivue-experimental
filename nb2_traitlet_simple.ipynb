{
	"cells": [
		{
			"cell_type": "code",
			"execution_count": null,
			"metadata": {},
			"outputs": [],
			"source": [
				"import anywidget \n",
				"import pathlib\n",
				"import traitlets\n",
				"\n",
				"class AnyNiivue(anywidget.AnyWidget):\n",
				"  _esm = pathlib.Path.cwd() / \"src\" / \"ipyniivue_experimental\"/ \"static\" / \"slider.js\"\n",
				"  opacity = traitlets.Float(0.0).tag(sync=True)\n",
				"  \n",
				"\n",
				"nv1 = AnyNiivue()\n",
				"display(nv1)"
			]
		},
		{
			"cell_type": "code",
			"execution_count": null,
			"metadata": {},
			"outputs": [],
			"source": [
				"nv1.opacity = 0.5"
			]
		},
		{
			"cell_type": "code",
			"execution_count": null,
			"metadata": {},
			"outputs": [],
			"source": [
				"nv1.opacity = 0.3"
			]
		},
		{
			"cell_type": "code",
			"execution_count": null,
			"metadata": {},
			"outputs": [],
			"source": [
				"nv1.opacity = 0.8"
			]
		},
		{
			"cell_type": "code",
			"execution_count": null,
			"metadata": {},
			"outputs": [],
			"source": [
				"nv1.opacity = 0.4"
			]
		},
		{
			"cell_type": "code",
			"execution_count": null,
			"metadata": {},
			"outputs": [],
			"source": [
				"import ipywidgets\n",
				"\n",
				"widget = AnyNiivue()\n",
				"\n",
				"\n",
				"slider = ipywidgets.FloatSlider(min=0, max=1, step=0.01)\n",
				"ipywidgets.link((widget, \"opacity\"), (slider, \"value\"))\n",
				"\n",
				"\n",
				"def handle_change(change):\n",
				"    \"\"\"Prints new value to `output` widget\"\"\"\n",
				"    print(change.new)\n",
				"widget.observe(handle_change, names=[\"my_value\"])\n",
				"\n",
				"ipywidgets.VBox([slider, widget])"
			]
		},
		{
			"cell_type": "code",
			"execution_count": null,
			"metadata": {},
			"outputs": [],
			"source": []
		}
	],
	"metadata": {
		"kernelspec": {
			"display_name": ".venv",
			"language": "python",
			"name": "python3"
		},
		"language_info": {
			"codemirror_mode": {
				"name": "ipython",
				"version": 3
			},
			"file_extension": ".py",
			"mimetype": "text/x-python",
			"name": "python",
			"nbconvert_exporter": "python",
			"pygments_lexer": "ipython3",
			"version": "3.11.7"
		}
	},
	"nbformat": 4,
	"nbformat_minor": 2
}
