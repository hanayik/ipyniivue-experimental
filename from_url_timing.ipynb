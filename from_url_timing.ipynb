{
 "cells": [
  {
   "cell_type": "code",
   "execution_count": 1,
   "metadata": {},
   "outputs": [],
   "source": [
    "import anywidget\n",
    "import pathlib\n",
    "\n",
    "\n",
    "class AnyNiivue(anywidget.AnyWidget):\n",
    "    path_root = pathlib.Path.cwd()\n",
    "    _esm = path_root / \"src\" / \"ipyniivue_experimental\" / \"static\" / \"widget_send.js\"\n",
    "\n",
    "    def load_volumes(self, volume_list):\n",
    "        self.send({ \"type\": \"api\", \"func\": \"loadVolumes\", \"args\": [volume_list] })"
   ]
  },
  {
   "cell_type": "code",
   "execution_count": 2,
   "metadata": {},
   "outputs": [
    {
     "data": {
      "application/vnd.jupyter.widget-view+json": {
       "model_id": "8bcd905470b84611beae0f4755c5ac3b",
       "version_major": 2,
       "version_minor": 0
      },
      "text/plain": [
       "AnyNiivue()"
      ]
     },
     "metadata": {},
     "output_type": "display_data"
    }
   ],
   "source": [
    "nv = AnyNiivue()\n",
    "display(nv)"
   ]
  },
  {
   "cell_type": "code",
   "execution_count": 3,
   "metadata": {},
   "outputs": [],
   "source": [
    "my_volumes = [\n",
    "           { \"url\": \"https://niivue.github.io/niivue/images/mni152.nii.gz\" }\n",
    "        ]\n",
    "nv.load_volumes(my_volumes)"
   ]
  },
  {
   "cell_type": "code",
   "execution_count": null,
   "metadata": {},
   "outputs": [],
   "source": []
  }
 ],
 "metadata": {
  "kernelspec": {
   "display_name": "Python 3 (ipykernel)",
   "language": "python",
   "name": "python3"
  },
  "language_info": {
   "codemirror_mode": {
    "name": "ipython",
    "version": 3
   },
   "file_extension": ".py",
   "mimetype": "text/x-python",
   "name": "python",
   "nbconvert_exporter": "python",
   "pygments_lexer": "ipython3",
   "version": "3.11.7"
  }
 },
 "nbformat": 4,
 "nbformat_minor": 4
}
