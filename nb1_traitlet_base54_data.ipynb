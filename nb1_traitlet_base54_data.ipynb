{
 "cells": [
  {
   "cell_type": "code",
   "execution_count": null,
   "metadata": {},
   "outputs": [],
   "source": [
    "import anywidget \n",
    "import traitlets\n",
    "import pathlib\n",
    "\n",
    "# def file_serializer(instance: pathlib.Path, widget):\n",
    "#     return {\n",
    "#         \"name\": instance.name,\n",
    "#         \"data\": instance.read_bytes()\n",
    "#     }\n",
    "\n",
    "class AnyNiivue(anywidget.AnyWidget):\n",
    "  path_root = pathlib.Path.cwd()\n",
    "  _esm = path_root / \"src\" / \"ipyniivue_experimental\"/ \"static\" / \"widget_traitlet.js\"\n",
    "  binary_value = traitlets.Bytes().tag(sync=True)\n",
    "\n",
    "  # file = traitlets.Instance(pathlib.Path).tag(sync=True, to_json=file_serializer)\n",
    "\n",
    "\n",
    "  def load_data(self, value):\n",
    "    self.binary_value = value\n",
    "\n",
    "nv1 = AnyNiivue()\n",
    "nv1"
   ]
  },
  {
   "cell_type": "code",
   "execution_count": null,
   "metadata": {},
   "outputs": [],
   "source": [
    "p = pathlib.Path.cwd() / \"images/mni152.nii.gz\"\n",
    "data = p.read_bytes()\n",
    "\n",
    "nv1.load_data(data)"
   ]
  },
  {
   "cell_type": "code",
   "execution_count": null,
   "metadata": {},
   "outputs": [],
   "source": []
  }
 ],
 "metadata": {
  "kernelspec": {
   "display_name": ".venv",
   "language": "python",
   "name": "python3"
  },
  "language_info": {
   "codemirror_mode": {
    "name": "ipython",
    "version": 3
   },
   "file_extension": ".py",
   "mimetype": "text/x-python",
   "name": "python",
   "nbconvert_exporter": "python",
   "pygments_lexer": "ipython3",
   "version": "3.11.7"
  }
 },
 "nbformat": 4,
 "nbformat_minor": 2
}
