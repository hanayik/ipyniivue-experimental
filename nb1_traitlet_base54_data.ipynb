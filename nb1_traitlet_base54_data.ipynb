{
 "cells": [
  {
   "cell_type": "code",
   "execution_count": null,
   "metadata": {},
   "outputs": [],
   "source": [
    "import anywidget \n",
    "import traitlets\n",
    "import pathlib\n",
    "\n",
    "def file_serializer(instance: pathlib.Path, widget):\n",
    "    return {\n",
    "        \"name\": instance.name,\n",
    "        \"data\": instance.read_bytes()\n",
    "    }\n",
    "\n",
    "class AnyNiivue(anywidget.AnyWidget):\n",
    "  path_root = pathlib.Path.cwd()\n",
    "  _esm = path_root / \"src\" / \"ipyniivue_experimental\"/ \"static\" / \"widget_traitlet.js\"\n",
    "\n",
    "  volume_file = traitlets.Instance(pathlib.Path).tag(sync=True, to_json=file_serializer)\n",
    "\n",
    "  opacity = traitlets.Float(1.0).tag(sync = True)\n",
    "  \n",
    "  def set_opacity(self, value):\n",
    "    self.opacity = value\n",
    "  def get_opacitiy(self):\n",
    "    return self.opacity\n",
    "  \n",
    "  colormap = traitlets.Unicode(\"\").tag(sync = True)\n",
    "  \n",
    "  def set_colormap(self, value):\n",
    "    self.colormap = value\n",
    "\n",
    "  def get_colormap(self):\n",
    "    return self.colormap\n",
    "  \n",
    "  slice_type = traitlets.Integer(0).tag(sync = True)\n",
    "  \n",
    "  def set_slice_type(self, my_slice_type):\n",
    "    self.slice_type = int(my_slice_type.value)\n",
    "\n",
    "  drag_mode = traitlets.Unicode(\"\").tag(sync = True)\n",
    "  \n",
    "  def set_drag_mode(self, value):\n",
    "    self.drag_mode = str(value)\n",
    "\n",
    "\n",
    "from enum import Enum\n",
    "\n",
    "class SLICE_TYPE(Enum):\n",
    "    AXIAL = 1\n",
    "    CORONAL = 2\n",
    "    SAGITTAL = 3\n",
    "    MULTIPLANAR = 4\n",
    "    RENDER = 5\n",
    "\n",
    "\n",
    "class DRAG_MODES(Enum):\n",
    "   CONTRAST = 1\n",
    "   MEASUREMENT = 2\n",
    "   PAN = 3\n",
    "\n",
    "   \n",
    "\n",
    "\n",
    "p = pathlib.Path.cwd() / \"images/mni152.nii.gz\"\n",
    "\n",
    "nv1 = AnyNiivue(volume_file = p)\n",
    "nv1"
   ]
  },
  {
   "cell_type": "code",
   "execution_count": null,
   "metadata": {},
   "outputs": [],
   "source": [
    "nv1.set_slice_type(SLICE_TYPE.AXIAL)"
   ]
  },
  {
   "cell_type": "code",
   "execution_count": null,
   "metadata": {},
   "outputs": [],
   "source": [
    "nv1.set_slice_type(SLICE_TYPE.SAGITTAL)"
   ]
  },
  {
   "cell_type": "code",
   "execution_count": null,
   "metadata": {},
   "outputs": [],
   "source": [
    "nv1.set_opacity(0.9)"
   ]
  },
  {
   "cell_type": "code",
   "execution_count": null,
   "metadata": {},
   "outputs": [],
   "source": [
    "nv1.set_colormap(\"hot\")c"
   ]
  },
  {
   "cell_type": "code",
   "execution_count": null,
   "metadata": {},
   "outputs": [],
   "source": [
    "nv1.set_colormap(\"blue\")"
   ]
  },
  {
   "cell_type": "code",
   "execution_count": null,
   "metadata": {},
   "outputs": [],
   "source": [
    "nv1.set_drag_mode(DRAG_MODES.MEASUREMENT)\n"
   ]
  },
  {
   "cell_type": "code",
   "execution_count": null,
   "metadata": {},
   "outputs": [],
   "source": [
    "nv1.set_drag_mode(DRAG_MODES.PAN)\n"
   ]
  },
  {
   "cell_type": "code",
   "execution_count": null,
   "metadata": {},
   "outputs": [],
   "source": [
    "nv1.set_slice_type(SLICE_TYPE.RENDER)"
   ]
  },
  {
   "cell_type": "code",
   "execution_count": null,
   "metadata": {},
   "outputs": [],
   "source": []
  },
  {
   "cell_type": "code",
   "execution_count": null,
   "metadata": {},
   "outputs": [],
   "source": []
  }
 ],
 "metadata": {
  "kernelspec": {
   "display_name": ".venv",
   "language": "python",
   "name": "python3"
  },
  "language_info": {
   "codemirror_mode": {
    "name": "ipython",
    "version": 3
   },
   "file_extension": ".py",
   "mimetype": "text/x-python",
   "name": "python",
   "nbconvert_exporter": "python",
   "pygments_lexer": "ipython3",
   "version": "3.11.7"
  }
 },
 "nbformat": 4,
 "nbformat_minor": 2
}
