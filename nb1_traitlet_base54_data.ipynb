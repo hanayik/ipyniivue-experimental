{
 "cells": [
  {
   "cell_type": "code",
   "execution_count": 2,
   "metadata": {},
   "outputs": [
    {
     "data": {
      "application/vnd.jupyter.widget-view+json": {
       "model_id": "ff3ea384bec94bb592751aa91cd115e5",
       "version_major": 2,
       "version_minor": 0
      },
      "text/plain": [
       "AnyNiivue(file=PosixPath('/Users/jan-hendrik/projects/ipyniivue-experimental/images/mni152.nii.gz'))"
      ]
     },
     "execution_count": 2,
     "metadata": {},
     "output_type": "execute_result"
    }
   ],
   "source": [
    "import anywidget \n",
    "import traitlets\n",
    "import pathlib\n",
    "\n",
    "def file_serializer(instance: pathlib.Path, widget):\n",
    "    return {\n",
    "        \"name\": instance.name,\n",
    "        \"data\": instance.read_bytes()\n",
    "    }\n",
    "\n",
    "class AnyNiivue(anywidget.AnyWidget):\n",
    "  path_root = pathlib.Path.cwd()\n",
    "  _esm = path_root / \"src\" / \"ipyniivue_experimental\"/ \"static\" / \"widget_traitlet.js\"\n",
    "\n",
    "  file = traitlets.Instance(pathlib.Path).tag(sync=True, to_json=file_serializer)\n",
    "\n",
    "p = pathlib.Path.cwd() / \"images/mni152.nii.gz\"\n",
    "\n",
    "nv1 = AnyNiivue(file = p)\n",
    "nv1"
   ]
  },
  {
   "cell_type": "code",
   "execution_count": null,
   "metadata": {},
   "outputs": [],
   "source": []
  }
 ],
 "metadata": {
  "kernelspec": {
   "display_name": ".venv",
   "language": "python",
   "name": "python3"
  },
  "language_info": {
   "codemirror_mode": {
    "name": "ipython",
    "version": 3
   },
   "file_extension": ".py",
   "mimetype": "text/x-python",
   "name": "python",
   "nbconvert_exporter": "python",
   "pygments_lexer": "ipython3",
   "version": "3.11.7"
  }
 },
 "nbformat": 4,
 "nbformat_minor": 2
}
