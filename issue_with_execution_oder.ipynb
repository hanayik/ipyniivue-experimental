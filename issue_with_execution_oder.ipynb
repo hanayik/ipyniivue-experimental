{
 "cells": [
  {
   "cell_type": "code",
   "execution_count": 1,
   "metadata": {},
   "outputs": [],
   "source": [
    "# notebook linked in https://github.com/niivue/niivue/issues/867\n",
    "import anywidget\n",
    "import pathlib\n",
    "\n",
    "\n",
    "class AnyNiivue(anywidget.AnyWidget):\n",
    "    path_root = pathlib.Path.cwd()\n",
    "    _esm = path_root / \"src\" / \"ipyniivue_experimental\" / \"static\" / \"widget_send.js\"\n",
    "\n",
    "    def load_volumes(self, volume_list):\n",
    "        self.send({ \"type\": \"api\", \"func\": \"loadVolumes\", \"args\": [volume_list] })\n",
    "\n",
    "    def set_opacity(self, opacity=1):\n",
    "        self.send(\n",
    "            {\"type\": \"api\", \"func\": \"setOpacity\", \"args\": [[0], [opacity]]}\n",
    "        )\n",
    "\n",
    "\n",
    "    def set_crosshair_color(self, color):\n",
    "         self.send(\n",
    "            {\"type\": \"api\", \"func\": \"setCrosshairColor\", \"args\": [color]}\n",
    "         )\n",
    "\n",
    "    def set_crosshair_color(self, color):\n",
    "         self.send(\n",
    "            {\"type\": \"api\", \"func\": \"setCrosshairColor\", \"args\": [color]}\n",
    "         )\n",
    "\n",
    "    def set_crosshair_width(self, width):\n",
    "         self.send(\n",
    "            {\"type\": \"api\", \"func\": \"setCrosshairWidth\", \"args\": [width]}\n",
    "         )"
   ]
  },
  {
   "cell_type": "code",
   "execution_count": 2,
   "metadata": {},
   "outputs": [
    {
     "data": {
      "application/vnd.jupyter.widget-view+json": {
       "model_id": "fd9a9f3cca4a49b3b8fc3bdcf563b55a",
       "version_major": 2,
       "version_minor": 0
      },
      "text/plain": [
       "AnyNiivue()"
      ]
     },
     "metadata": {},
     "output_type": "display_data"
    }
   ],
   "source": [
    "nv = AnyNiivue()\n",
    "display(nv)"
   ]
  },
  {
   "cell_type": "code",
   "execution_count": 3,
   "metadata": {},
   "outputs": [],
   "source": [
    "my_volumes = [\n",
    "           { \"url\": \"https://niivue.github.io/niivue/images/mni152.nii.gz\" }\n",
    "        ]\n",
    "nv.load_volumes(my_volumes)"
   ]
  },
  {
   "cell_type": "code",
   "execution_count": 4,
   "metadata": {},
   "outputs": [],
   "source": [
    "nv.set_opacity(0.3)"
   ]
  },
  {
   "cell_type": "code",
   "execution_count": 5,
   "metadata": {},
   "outputs": [],
   "source": [
    "nv.set_crosshair_width(10)"
   ]
  },
  {
   "cell_type": "code",
   "execution_count": 6,
   "metadata": {},
   "outputs": [],
   "source": [
    "nv.set_crosshair_color([0, 0, 1, 1]) # blue"
   ]
  },
  {
   "cell_type": "code",
   "execution_count": null,
   "metadata": {},
   "outputs": [],
   "source": []
  }
 ],
 "metadata": {
  "kernelspec": {
   "display_name": ".venv",
   "language": "python",
   "name": "python3"
  },
  "language_info": {
   "codemirror_mode": {
    "name": "ipython",
    "version": 3
   },
   "file_extension": ".py",
   "mimetype": "text/x-python",
   "name": "python",
   "nbconvert_exporter": "python",
   "pygments_lexer": "ipython3",
   "version": "3.11.7"
  }
 },
 "nbformat": 4,
 "nbformat_minor": 2
}
