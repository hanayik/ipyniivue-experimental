{
	"cells": [
		{
			"cell_type": "code",
			"execution_count": null,
			"metadata": {},
			"outputs": [],
			"source": [
				"import anywidget\n",
				"import pathlib\n",
				"\n",
				"\n",
				"class AnyNiivue(anywidget.AnyWidget):\n",
				"    path_root = pathlib.Path.cwd()\n",
				"    _esm = path_root / \"src\" / \"ipyniivue_experimental\" / \"static\" / \"widget_send.js\"\n",
				"\n",
				"    def load_volumes(self, volume_list):\n",
				"        self.send({ \"type\": \"api\", \"func\": \"loadVolumes\", \"args\": [volume_list] })\n",
				"\n",
				"\n",
				"    def colormaps(self):\n",
				"        return [\n",
				"        \"actc\", \"afni_blues_inv\", \"afni_reds_inv\", \"bcgwhw\", \"bcgwhw_dark\",\n",
				"        \"blue\", \"blue2cyan\", \"blue2magenta\", \"blue2red\", \"bluegrn\", \"bone\", \n",
				"        \"bronze\", \"cet_l17\", \"cividis\", \"cool\", \"copper\", \"copper2\", \"ct_airways\", \n",
				"        \"ct_artery\", \"ct_bones\", \"ct_brain\", \"ct_brain_gray\", \"ct_cardiac\", \n",
				"        \"ct_head\", \"ct_kidneys\", \"ct_liver\", \"ct_muscles\", \"ct_scalp\", \"ct_skull\", \n",
				"        \"ct_soft\", \"ct_soft_tissue\", \"ct_surface\", \"ct_vessels\", \"ct_w_contrast\", \n",
				"        \"cubehelix\", \"electric_blue\", \"freesurfer\", \"ge_color\", \"gold\", \"gray\", \n",
				"        \"green\", \"green2cyan\", \"green2orange\", \"hot\", \"hotiron\", \"hsv\", \"inferno\", \n",
				"        \"jet\", \"linspecer\", \"magma\", \"mako\", \"nih\", \"plasma\", \"random\", \"red\", \n",
				"        \"redyell\", \"rocket\", \"roi_i256\", \"surface\", \"turbo\", \"violet\", \"viridis\", \n",
				"        \"warm\", \"winter\", \"x_rain\"\n",
				"    ]\n",
				"\n",
				"\n",
				"\n",
				"    def set_opacity(self, opacity=0.3):\n",
				"        self.send(\n",
				"            {\"type\": \"setting_property\", \"func\": \"setOpacity\", \"args\": [[0], [opacity]]}\n",
				"        )\n",
				"\n",
				"\n",
				"    def set_crosshair_color(self, color):\n",
				"         self.send(\n",
				"            {\"type\": \"setting_property\", \"func\": \"setCrosshairColor\", \"args\": [color]}\n",
				"         )\n",
				"\n",
				"    def set_crosshair_color(self, color):\n",
				"         self.send(\n",
				"            {\"type\": \"setting_property\", \"func\": \"setCrosshairColor\", \"args\": [color]}\n",
				"         )\n",
				"\n",
				"    def set_crosshair_width(self, width):\n",
				"         self.send(\n",
				"            {\"type\": \"setting_property\", \"func\": \"setCrosshairWidth\", \"args\": [width]}\n",
				"         )\n",
				"\n",
				"    def set_color_map(self, cmap=\"green\"):\n",
				"        self.send(\n",
				"            {\n",
				"                \"type\": \"setting_property\",\n",
				"                \"func\": \"setColorMap\",\n",
				"                \"args\": [[\"nv.volumes[0].id\"], [cmap]],\n",
				"            }\n",
				"        )\n",
				"        \n",
				"nv = AnyNiivue()\n",
				"display(nv)"
			]
		},
		{
			"cell_type": "code",
			"execution_count": null,
			"metadata": {},
			"outputs": [],
			"source": [
				"my_volumes = [\n",
				"            {\"url\": \"images/mni152.nii.gz\"},\n",
				"            {\"url\": \"images/hippo.nii.gz\", \"colormap\": \"blue\", \"opacity\": 0.8},\n",
				"        ]\n",
				"nv.load_volumes(my_volumes)"
			]
		},
		{
			"cell_type": "code",
			"execution_count": null,
			"metadata": {},
			"outputs": [],
			"source": [
				"nv.set_opacity(0.5)"
			]
		},
		{
			"cell_type": "code",
			"execution_count": null,
			"metadata": {},
			"outputs": [],
			"source": [
				"nv.set_crosshair_width(10)"
			]
		},
		{
			"cell_type": "code",
			"execution_count": null,
			"metadata": {},
			"outputs": [],
			"source": [
				"nv.set_crosshair_color([0, 0, 1, 1]) # blue"
			]
		},
		{
			"cell_type": "code",
			"execution_count": null,
			"metadata": {},
			"outputs": [],
			"source": [
				"colormaps = nv.colormaps()\n",
				"c = colormaps[2]\n",
				"nv.set_color_map(c) # JS implementation for this not yet perfect.\n",
				"print(c)"
			]
		},
		{
			"cell_type": "code",
			"execution_count": null,
			"metadata": {},
			"outputs": [],
			"source": []
		}
	],
	"metadata": {
		"kernelspec": {
			"display_name": ".venv",
			"language": "python",
			"name": "python3"
		},
		"language_info": {
			"codemirror_mode": {
				"name": "ipython",
				"version": 3
			},
			"file_extension": ".py",
			"mimetype": "text/x-python",
			"name": "python",
			"nbconvert_exporter": "python",
			"pygments_lexer": "ipython3",
			"version": "3.11.7"
		}
	},
	"nbformat": 4,
	"nbformat_minor": 2
}
