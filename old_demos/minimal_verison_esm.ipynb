{
 "cells": [
  {
   "cell_type": "code",
   "execution_count": null,
   "metadata": {},
   "outputs": [],
   "source": [
    "import anywidget \n",
    "import pathlib\n",
    "\n",
    "\n",
    "class AnyNiivue(anywidget.AnyWidget):\n",
    "  path_root = pathlib.Path.cwd()\n",
    "  _esm = \"\"\"\n",
    "import { Niivue } from \"https://esm.sh/@niivue/niivue\";\n",
    "\n",
    "\n",
    "async function render({ model, el }) {\n",
    "  let canvas = document.createElement(\"canvas\");\n",
    "  let container = document.createElement(\"div\");\n",
    "  container.style.height = \"300px\";\n",
    "  container.appendChild(canvas);\n",
    "  el.appendChild(container);\n",
    "  let nv = new Niivue();\n",
    "  nv.attachToCanvas(canvas);\n",
    "\n",
    "  nv.loadVolumes([\n",
    "    { url: \"https://niivue.github.io/niivue-demo-images/mni152.nii.gz\" },\n",
    "  ]);\n",
    "}\n",
    "\n",
    "export default { render };\n",
    "\n",
    "\"\"\"\n",
    "\n",
    "\n",
    "nv1 = AnyNiivue()\n",
    "nv1"
   ]
  }
 ],
 "metadata": {
  "kernelspec": {
   "display_name": ".venv",
   "language": "python",
   "name": "python3"
  },
  "language_info": {
   "codemirror_mode": {
    "name": "ipython",
    "version": 3
   },
   "file_extension": ".py",
   "mimetype": "text/x-python",
   "name": "python",
   "nbconvert_exporter": "python",
   "pygments_lexer": "ipython3",
   "version": "3.11.7"
  }
 },
 "nbformat": 4,
 "nbformat_minor": 2
}
