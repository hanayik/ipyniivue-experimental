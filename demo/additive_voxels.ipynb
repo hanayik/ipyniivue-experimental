{
 "cells": [
  {
   "cell_type": "code",
   "execution_count": null,
   "metadata": {},
   "outputs": [],
   "source": [
    "from ipyniivue_experimental import AnyNiivue, SliceType\n",
    "# based on https://niivue.github.io/niivue/features/additive.voxels.html\n",
    "\n",
    "volumes = [\n",
    "        { \"path\": \"../images/mni152.nii.gz\" },\n",
    "        {\n",
    "          \"path\": \"../images/narps-4965_9U7M-hypo1_unthresh.nii.gz\",\n",
    "          \"colormap\": \"red\",\n",
    "          \"cal_min\": 2,\n",
    "          \"cal_max\": 4,\n",
    "        },\n",
    "        {\n",
    "          \"path\": \"../images/narps-4735_50GV-hypo1_unthresh.nii.gz\",\n",
    "          \"colormap\": \"green\",\n",
    "          \"cal_min\": 2,\n",
    "          \"cal_max\": 4,\n",
    "        },\n",
    "      ]\n",
    "nv = AnyNiivue()\n",
    "nv.load_volumes(volumes)\n",
    "nv"
   ]
  },
  {
   "cell_type": "code",
   "execution_count": null,
   "metadata": {},
   "outputs": [],
   "source": [
    "nv.volumes[0].colorbarVisible = False\n",
    "nv.volumes[1].cal_min = 1"
   ]
  }
 ],
 "metadata": {
  "kernelspec": {
   "display_name": ".venv",
   "language": "python",
   "name": "python3"
  },
  "language_info": {
   "codemirror_mode": {
    "name": "ipython",
    "version": 3
   },
   "file_extension": ".py",
   "mimetype": "text/x-python",
   "name": "python",
   "nbconvert_exporter": "python",
   "pygments_lexer": "ipython3",
   "version": "3.11.7"
  }
 },
 "nbformat": 4,
 "nbformat_minor": 2
}
