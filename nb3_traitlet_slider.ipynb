{
	"cells": [
		{
			"cell_type": "code",
			"execution_count": null,
			"metadata": {},
			"outputs": [],
			"source": [
				"############ This code block will go to __init__.py \n",
				"import anywidget \n",
				"import pathlib\n",
				"import traitlets\n",
				"\n",
				"class AnyNiivue(anywidget.AnyWidget):\n",
				"  path_root = pathlib.Path.cwd()\n",
				"  _esm = path_root / \"src\" / \"ipyniivue_experimental\"/ \"static\" / \"widget_traitlet.js\"\n",
				"  opacity = traitlets.Float(0.42).tag(sync=True)\n",
				"\n",
				"############"
			]
		},
		{
			"cell_type": "code",
			"execution_count": null,
			"metadata": {},
			"outputs": [],
			"source": [
				"import ipywidgets\n",
				"\n",
				"nv1 = AnyNiivue()\n",
				"my_volumes = [\n",
				"            {\"url\": \"images/mni152.nii.gz\"},\n",
				"            {\"url\": \"images/hippo.nii.gz\", \"colormap\": \"blue\", \"opacity\": 0.8},\n",
				"        ]\n",
				"nv1.set_volume(my_volumes)\n",
				"\n",
				"\n",
				"slider = ipywidgets.FloatSlider(min=0, max=1, step=0.01)\n",
				"ipywidgets.link((nv1, \"opacity\"), (slider, \"value\"))\n",
				"\n",
				"ipywidgets.VBox([slider, nv1])"
			]
		},
		{
			"cell_type": "code",
			"execution_count": null,
			"metadata": {},
			"outputs": [],
			"source": []
		}
	],
	"metadata": {
		"kernelspec": {
			"display_name": ".venv",
			"language": "python",
			"name": "python3"
		},
		"language_info": {
			"codemirror_mode": {
				"name": "ipython",
				"version": 3
			},
			"file_extension": ".py",
			"mimetype": "text/x-python",
			"name": "python",
			"nbconvert_exporter": "python",
			"pygments_lexer": "ipython3",
			"version": "3.11.7"
		}
	},
	"nbformat": 4,
	"nbformat_minor": 2
}
