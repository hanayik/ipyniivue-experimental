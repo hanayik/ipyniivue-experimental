{
	"cells": [
		{
			"cell_type": "code",
			"execution_count": null,
			"metadata": {},
			"outputs": [],
			"source": [
				"############ This code block will go to __init__.py \n",
				"\n",
				"import anywidget \n",
				"import pathlib\n",
				"\n",
				"class AnyNiivue(anywidget.AnyWidget):\n",
				"  path_root = pathlib.Path.cwd()\n",
				"  _esm = path_root / \"src\" / \"ipyniivue_experimental\"/ \"static\" / \"widget_send.js\"\n",
				"\n",
				"############\n",
				"    \n",
				"nv = AnyNiivue()\n",
				"nv"
			]
		},
		{
			"cell_type": "code",
			"execution_count": null,
			"metadata": {},
			"outputs": [],
			"source": [
				"nv.send(\n",
				"    {\n",
				"        \"type\": \"api\",\n",
				"        \"func\": \"loadVolumes\",\n",
				"\n",
				"\n",
				"        \"args\": [[\n",
				"            {\"url\": \"images/mni152.nii.gz\"},\n",
				"            {\"url\": \"images/hippo.nii.gz\", \"colormap\": \"red\"},\n",
				"        ]]\n",
				"    }\n",
				")"
			]
		},
		{
			"cell_type": "code",
			"execution_count": null,
			"metadata": {},
			"outputs": [],
			"source": [
				"nv.send(\n",
				"    {\n",
				"        \"type\": \"api\",\n",
				"        \"func\": \"colormaps\",\n",
				"\n",
				"\n",
				"        \"args\": [[\n",
				"        ]]\n",
				"    }\n",
				")"
			]
		}
	],
	"metadata": {
		"kernelspec": {
			"display_name": ".venv",
			"language": "python",
			"name": "python3"
		},
		"language_info": {
			"codemirror_mode": {
				"name": "ipython",
				"version": 3
			},
			"file_extension": ".py",
			"mimetype": "text/x-python",
			"name": "python",
			"nbconvert_exporter": "python",
			"pygments_lexer": "ipython3",
			"version": "3.11.7"
		}
	},
	"nbformat": 4,
	"nbformat_minor": 2
}
