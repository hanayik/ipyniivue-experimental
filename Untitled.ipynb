{
 "cells": [
  {
   "cell_type": "code",
   "execution_count": 1,
   "id": "72bc32a1-9fec-4e49-b714-ad37d2fc75b8",
   "metadata": {},
   "outputs": [
    {
     "data": {
      "application/vnd.jupyter.widget-view+json": {
       "model_id": "8a5c2beac4134ef3bf7f134a5be215ba",
       "version_major": 2,
       "version_minor": 0
      },
      "text/plain": [
       "Widget()"
      ]
     },
     "execution_count": 1,
     "metadata": {},
     "output_type": "execute_result"
    }
   ],
   "source": [
    "import anywidget\n",
    "import traitlets\n",
    "\n",
    "class Widget(anywidget.AnyWidget):\n",
    "    _esm = \"\"\"\n",
    "    export function render({ model, el }) { }\n",
    "    \"\"\"\n",
    "\n",
    "    value = traitlets.Int(0).tag(sync=True)\n",
    "\n",
    "w = Widget()\n",
    "w"
   ]
  },
  {
   "cell_type": "code",
   "execution_count": 2,
   "id": "3382e266-ff39-4173-93f5-c8ecf368edc1",
   "metadata": {},
   "outputs": [
    {
     "data": {
      "text/plain": [
       "'0.9.0'"
      ]
     },
     "execution_count": 2,
     "metadata": {},
     "output_type": "execute_result"
    }
   ],
   "source": [
    "import anywidget\n",
    "anywidget.__version__\n"
   ]
  },
  {
   "cell_type": "code",
   "execution_count": null,
   "id": "b3c0ea25-a0d2-40bd-a07f-a8ba7e4389b5",
   "metadata": {},
   "outputs": [],
   "source": []
  }
 ],
 "metadata": {
  "kernelspec": {
   "display_name": "Python 3 (ipykernel)",
   "language": "python",
   "name": "python3"
  },
  "language_info": {
   "codemirror_mode": {
    "name": "ipython",
    "version": 3
   },
   "file_extension": ".py",
   "mimetype": "text/x-python",
   "name": "python",
   "nbconvert_exporter": "python",
   "pygments_lexer": "ipython3",
   "version": "3.11.7"
  }
 },
 "nbformat": 4,
 "nbformat_minor": 5
}
