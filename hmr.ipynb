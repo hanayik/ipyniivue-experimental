{
 "cells": [
  {
   "cell_type": "code",
   "execution_count": 1,
   "metadata": {},
   "outputs": [
    {
     "data": {
      "application/vnd.jupyter.widget-view+json": {
       "model_id": "263e40b98f4f44658f0671ff242dc5de",
       "version_major": 2,
       "version_minor": 0
      },
      "text/plain": [
       "TestingHMR()"
      ]
     },
     "execution_count": 1,
     "metadata": {},
     "output_type": "execute_result"
    }
   ],
   "source": [
    "import anywidget \n",
    "import pathlib\n",
    "import traitlets\n",
    "\n",
    "class TestingHMR(anywidget.AnyWidget):\n",
    "  path_root = pathlib.Path.cwd()\n",
    "  _esm = path_root / \"src\" / \"ipyniivue_experimental\"/ \"static\" / \"hmr.js\"\n",
    "  opacity = traitlets.Float(1.0).tag(sync=True)\n",
    "\n",
    "TestingHMR()"
   ]
  },
  {
   "cell_type": "code",
   "execution_count": null,
   "metadata": {},
   "outputs": [],
   "source": []
  }
 ],
 "metadata": {
  "kernelspec": {
   "display_name": ".venv",
   "language": "python",
   "name": "python3"
  },
  "language_info": {
   "codemirror_mode": {
    "name": "ipython",
    "version": 3
   },
   "file_extension": ".py",
   "mimetype": "text/x-python",
   "name": "python",
   "nbconvert_exporter": "python",
   "pygments_lexer": "ipython3",
   "version": "3.11.7"
  }
 },
 "nbformat": 4,
 "nbformat_minor": 2
}
